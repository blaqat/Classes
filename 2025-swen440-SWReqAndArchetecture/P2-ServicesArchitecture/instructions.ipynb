{
    "cells": [
        {
            "cell_type": "markdown",
            "metadata": {},
            "source": [
                "# Project 2: Services Architecture - Initial Investigation\n",
                "\n",
                "## Purpose\n",
                "\n",
                "We all learn by reading and experimenting.  To get into that mode, we will\n",
                "review some documentation and run some pre-existing tests. Based on the \n",
                "test results, we will make some preliminary observations on the behaviors\n",
                "of interfaces and start developing ideas on how we can leverage them in\n",
                "the architecture we will be developing.\n",
                "\n",
                "## Investigation\n",
                "\n",
                "There are three main services available that are to be used to build the \n",
                "application. These services do not need to be changed. Your application will \n",
                "build on top of them. The services are:\n",
                "\n",
                "- A [Document Repository](http://seappserver1.rit.edu/DMService): This is where the incoming applications (scanned images of submitted applications) are stored.\n",
                "- An [OCR Service](http://seappserver1.rit.edu/OCRService): This service takes documents (scanned images) and converts the scanned information to text\n",
                "- A [Parsing Service](http://seappserver1.rit.edu/ParserService): This service takes the textual information and extracts the key data for tracking purposes. \n",
                "\n",
                "We will start by more closely examining each of these services.  The main overview for [Forms Services](https://seappserver1.rit.edu/formsservices/) may also be useful.  "
            ]
        },
        {
            "cell_type": "markdown",
            "metadata": {},
            "source": [
                "## Document Repository\n",
                "\n",
                "The **Document Repository** as its name implies is where scanned image documents\n",
                "reside.  We will need to be able to list the contents of the repository and \n",
                "retrieve files for processing. "
            ]
        },
        {
            "cell_type": "markdown",
            "metadata": {},
            "source": [
                "### List Files\n",
                "The `List Files` test in our test application shows this being done within a C#\n",
                "program.  (Run this before proceeding further)"
            ]
        },
        {
            "cell_type": "code",
            "execution_count": 2,
            "metadata": {},
            "outputs": [],
            "source": [
                "# Run 1 - GetFileList"
            ]
        },
        {
            "cell_type": "markdown",
            "metadata": {},
            "source": [
                "The output shows us a couple critical pieces of information that will be useful\n",
                "as we go forward.  First off, it tells us the number of files in the repository.\n",
                "\n",
                "We have constructed this as a testbed and divorced the document repository from\n",
                "the document scanning function.  This means the number of documents will remain\n",
                "constant throughout this project.  However, we as architects realize that our\n",
                "while our test environment shows a constant number of documents, our production\n",
                "system will differ and contantly have new documents arriving.\n",
                "\n",
                "There are two important implications - the number of document will grow over \n",
                "time and our system must somehow now which documents have been processed and\n",
                "ensure that we never resubmit the same document twice.\n",
                "\n",
                "The documentation for the `ListFiles` call (avaialable through the *Document Repository*\n",
                "link above) shows us it is a RESTful API call.  Our C# code provided the \n",
                "framework needed to make the call and demonstrated that output can be returned\n",
                "in two different formats - XML or JSON.  "
            ]
        },
        {
            "cell_type": "markdown",
            "metadata": {},
            "source": [
                "#### Practice: Output Formats\n",
                "\n",
                "The following code block provides the basic instrumentation to call `ListFiles`,\n",
                "you need to complete the call and return XML, and also Json"
            ]
        },
        {
            "cell_type": "code",
            "execution_count": 59,
            "metadata": {},
            "outputs": [
                {
                    "name": "stdout",
                    "output_type": "stream",
                    "text": [
                        "[{\"fileName\":\"Application_L_Page_002.png\"},{\"fileName\":\"Application_L_Page_003.png\"},{\"fileName\":\"Application_L_Page_004.png\"},{\"fileName\":\"Application_L_Page_005.png\"},{\"fileName\":\"Application_L_Page_006.png\"},{\"fileName\":\"Application_L_Page_007.png\"},{\"fileName\":\"Application_L_Page_008.png\"},{\"fileName\":\"Application_L_Page_009.png\"},{\"fileName\":\"Application_L_Page_010.png\"},{\"fileName\":\"Application_L_Page_011.png\"},{\"fileName\":\"Application_L_Page_012.png\"},{\"fileName\":\"Application_L_Page_013.png\"},{\"fileName\":\"Application_L_Page_014.png\"},{\"fileName\":\"Application_L_Page_015.png\"},{\"fileName\":\"Application_L_Page_016.png\"},{\"fileName\":\"Application_L_Page_017.png\"},{\"fileName\":\"Application_L_Page_018.png\"},{\"fileName\":\"Application_L_Page_019.png\"},{\"fileName\":\"Application_L_Page_020.png\"},{\"fileName\":\"Application_L_Page_021.png\"},{\"fileName\":\"Application_L_Page_022.png\"},{\"fileName\":\"Application_L_Page_023.png\"},{\"fileName\":\"Application_L_Page_024.png\"},{\"fileName\":\"Application_L_Page_025.png\"},{\"fileName\":\"Application_L_Page_026.png\"},{\"fileName\":\"Application_L_Page_027.png\"},{\"fileName\":\"Application_L_Page_028.png\"},{\"fileName\":\"Application_L_Page_029.png\"},{\"fileName\":\"Application_L_Page_030.png\"},{\"fileName\":\"Application_L_Page_031.png\"},{\"fileName\":\"Application_L_Page_032.png\"},{\"fileName\":\"Application_L_Page_033.png\"},{\"fileName\":\"Application_L_Page_034.png\"},{\"fileName\":\"Application_L_Page_035.png\"},{\"fileName\":\"Application_L_Page_036.png\"},{\"fileName\":\"Application_L_Page_037.png\"},{\"fileName\":\"Application_L_Page_038.png\"},{\"fileName\":\"Application_L_Page_039.png\"},{\"fileName\":\"Application_L_Page_040.png\"},{\"fileName\":\"Application_L_Page_041.png\"},{\"fileName\":\"Application_L_Page_042.png\"},{\"fileName\":\"Application_L_Page_043.png\"},{\"fileName\":\"Application_L_Page_044.png\"},{\"fileName\":\"Application_L_Page_045.png\"},{\"fileName\":\"Application_L_Page_046.png\"},{\"fileName\":\"Application_L_Page_047.png\"},{\"fileName\":\"Application_L_Page_048.png\"},{\"fileName\":\"Application_L_Page_049.png\"},{\"fileName\":\"Application_L_Page_050.png\"},{\"fileName\":\"Application_L_Page_051.png\"},{\"fileName\":\"Application_L_Page_052.png\"},{\"fileName\":\"Application_L_Page_053.png\"},{\"fileName\":\"Application_L_Page_054.png\"},{\"fileName\":\"Application_L_Page_055.png\"},{\"fileName\":\"Application_L_Page_056.png\"},{\"fileName\":\"Application_L_Page_057.png\"},{\"fileName\":\"Application_L_Page_058.png\"},{\"fileName\":\"Application_L_Page_059.png\"},{\"fileName\":\"Application_L_Page_060.png\"},{\"fileName\":\"Application_L_Page_061.png\"},{\"fileName\":\"Application_L_Page_062.png\"},{\"fileName\":\"Application_L_Page_063.png\"},{\"fileName\":\"Application_L_Page_064.png\"},{\"fileName\":\"Application_L_Page_065.png\"},{\"fileName\":\"Application_L_Page_066.png\"},{\"fileName\":\"Application_L_Page_067.png\"},{\"fileName\":\"Application_L_Page_068.png\"},{\"fileName\":\"Application_L_Page_069.png\"},{\"fileName\":\"Application_L_Page_070.png\"},{\"fileName\":\"Application_L_Page_071.png\"},{\"fileName\":\"Application_L_Page_072.png\"},{\"fileName\":\"Application_L_Page_073.png\"},{\"fileName\":\"Application_L_Page_074.png\"},{\"fileName\":\"Application_L_Page_075.png\"},{\"fileName\":\"Application_L_Page_076.png\"},{\"fileName\":\"Application_L_Page_077.png\"},{\"fileName\":\"Application_L_Page_078.png\"},{\"fileName\":\"Application_L_Page_079.png\"},{\"fileName\":\"Application_L_Page_080.png\"},{\"fileName\":\"Application_L_Page_081.png\"},{\"fileName\":\"Application_L_Page_082.png\"},{\"fileName\":\"Application_L_Page_083.png\"},{\"fileName\":\"Application_L_Page_084.png\"},{\"fileName\":\"Application_L_Page_085.png\"},{\"fileName\":\"Application_L_Page_086.png\"},{\"fileName\":\"Application_L_Page_087.png\"},{\"fileName\":\"Application_L_Page_088.png\"},{\"fileName\":\"Application_L_Page_089.png\"},{\"fileName\":\"Application_L_Page_090.png\"},{\"fileName\":\"Application_L_Page_091.png\"},{\"fileName\":\"Application_L_Page_092.png\"},{\"fileName\":\"Application_L_Page_093.png\"},{\"fileName\":\"Application_L_Page_094.png\"},{\"fileName\":\"Application_L_Page_095.png\"},{\"fileName\":\"Application_L_Page_096.png\"},{\"fileName\":\"Application_L_Page_097.png\"},{\"fileName\":\"Application_L_Page_098.png\"},{\"fileName\":\"Application_L_Page_099.png\"},{\"fileName\":\"Application_L_Page_100.png\"},{\"fileName\":\"Application_L_Page_101.png\"},{\"fileName\":\"Application_L_Page_102.png\"},{\"fileName\":\"Application_L_Page_103.png\"},{\"fileName\":\"Application_L_Page_104.png\"},{\"fileName\":\"Application_L_Page_105.png\"},{\"fileName\":\"Application_L_Page_106.png\"},{\"fileName\":\"Application_L_Page_107.png\"},{\"fileName\":\"Application_L_Page_108.png\"},{\"fileName\":\"Application_L_Page_109.png\"},{\"fileName\":\"Application_L_Page_110.png\"},{\"fileName\":\"Application_L_Page_111.png\"},{\"fileName\":\"Application_L_Page_112.png\"},{\"fileName\":\"Application_L_Page_113.png\"},{\"fileName\":\"Application_L_Page_114.png\"},{\"fileName\":\"Application_L_Page_115.png\"},{\"fileName\":\"Application_L_Page_116.png\"},{\"fileName\":\"Application_L_Page_117.png\"},{\"fileName\":\"Application_L_Page_118.png\"},{\"fileName\":\"Application_L_Page_119.png\"},{\"fileName\":\"Application_L_Page_120.png\"},{\"fileName\":\"Application_L_Page_121.png\"},{\"fileName\":\"Application_L_Page_122.png\"},{\"fileName\":\"Application_L_Page_123.png\"},{\"fileName\":\"Application_L_Page_124.png\"},{\"fileName\":\"Application_L_Page_125.png\"},{\"fileName\":\"Application_L_Page_126.png\"},{\"fileName\":\"Application_L_Page_127.png\"},{\"fileName\":\"Application_L_Page_128.png\"},{\"fileName\":\"Application_L_Page_129.png\"},{\"fileName\":\"Application_L_Page_130.png\"},{\"fileName\":\"Application_L_Page_131.png\"},{\"fileName\":\"Application_L_Page_132.png\"},{\"fileName\":\"Application_L_Page_133.png\"},{\"fileName\":\"Application_L_Page_134.png\"},{\"fileName\":\"Application_L_Page_135.png\"},{\"fileName\":\"Application_L_Page_136.png\"},{\"fileName\":\"Application_L_Page_137.png\"},{\"fileName\":\"Application_L_Page_138.png\"},{\"fileName\":\"Application_L_Page_139.png\"},{\"fileName\":\"Application_L_Page_140.png\"},{\"fileName\":\"Application_L_Page_141.png\"},{\"fileName\":\"Application_L_Page_142.png\"},{\"fileName\":\"Application_L_Page_143.png\"},{\"fileName\":\"Application_L_Page_144.png\"},{\"fileName\":\"Application_L_Page_145.png\"},{\"fileName\":\"Application_L_Page_146.png\"},{\"fileName\":\"Application_L_Page_147.png\"},{\"fileName\":\"Application_L_Page_148.png\"},{\"fileName\":\"Application_L_Page_149.png\"},{\"fileName\":\"Application_L_Page_150.png\"},{\"fileName\":\"Application_L_Page_151.png\"},{\"fileName\":\"Application_L_Page_152.png\"},{\"fileName\":\"Application_L_Page_153.png\"},{\"fileName\":\"Application_L_Page_154.png\"},{\"fileName\":\"Application_L_Page_155.png\"},{\"fileName\":\"Application_L_Page_156.png\"},{\"fileName\":\"Application_L_Page_157.png\"},{\"fileName\":\"Application_L_Page_158.png\"},{\"fileName\":\"Application_L_Page_159.png\"},{\"fileName\":\"Application_L_Page_160.png\"},{\"fileName\":\"Application_L_Page_161.png\"},{\"fileName\":\"Application_L_Page_162.png\"},{\"fileName\":\"Application_L_Page_163.png\"},{\"fileName\":\"Application_L_Page_164.png\"},{\"fileName\":\"Application_L_Page_165.png\"},{\"fileName\":\"Application_L_Page_166.png\"},{\"fileName\":\"Application_L_Page_167.png\"},{\"fileName\":\"Application_L_Page_168.png\"},{\"fileName\":\"Application_L_Page_169.png\"},{\"fileName\":\"Application_L_Page_170.png\"},{\"fileName\":\"Application_L_Page_171.png\"},{\"fileName\":\"Application_L_Page_172.png\"},{\"fileName\":\"Application_L_Page_173.png\"},{\"fileName\":\"Application_L_Page_174.png\"},{\"fileName\":\"Application_L_Page_175.png\"},{\"fileName\":\"Application_L_Page_176.png\"},{\"fileName\":\"Application_L_Page_177.png\"},{\"fileName\":\"Application_L_Page_178.png\"},{\"fileName\":\"Application_L_Page_179.png\"},{\"fileName\":\"Application_L_Page_180.png\"},{\"fileName\":\"Application_L_Page_181.png\"},{\"fileName\":\"Application_L_Page_182.png\"},{\"fileName\":\"Application_L_Page_183.png\"},{\"fileName\":\"Application_L_Page_184.png\"},{\"fileName\":\"Application_L_Page_185.png\"},{\"fileName\":\"Application_L_Page_186.png\"},{\"fileName\":\"Application_L_Page_187.png\"},{\"fileName\":\"Application_L_Page_188.png\"},{\"fileName\":\"Application_L_Page_189.png\"},{\"fileName\":\"Application_L_Page_190.png\"},{\"fileName\":\"Application_L_Page_191.png\"},{\"fileName\":\"Application_L_Page_192.png\"},{\"fileName\":\"Application_L_Page_193.png\"},{\"fileName\":\"Application_L_Page_194.png\"},{\"fileName\":\"Application_L_Page_195.png\"},{\"fileName\":\"Application_L_Page_196.png\"},{\"fileName\":\"Application_L_Page_197.png\"},{\"fileName\":\"Application_L_Page_198.png\"},{\"fileName\":\"Application_L_Page_199.png\"},{\"fileName\":\"Application_L_Page_200.png\"},{\"fileName\":\"Application_L_Page_201.png\"},{\"fileName\":\"Application_L_Page_202.png\"},{\"fileName\":\"Application_L_Page_203.png\"},{\"fileName\":\"Application_L_Page_204.png\"},{\"fileName\":\"Application_L_Page_205.png\"},{\"fileName\":\"Application_L_Page_206.png\"},{\"fileName\":\"Application_L_Page_207.png\"},{\"fileName\":\"Application_M_Page_001.png\"},{\"fileName\":\"Application_M_Page_002.png\"},{\"fileName\":\"Application_M_Page_003.png\"},{\"fileName\":\"Application_M_Page_004.png\"},{\"fileName\":\"Application_M_Page_005.png\"},{\"fileName\":\"Application_M_Page_006.png\"},{\"fileName\":\"Application_M_Page_007.png\"},{\"fileName\":\"Application_M_Page_008.png\"},{\"fileName\":\"Application_M_Page_009.png\"},{\"fileName\":\"Application_M_Page_010.png\"},{\"fileName\":\"Application_M_Page_011.png\"},{\"fileName\":\"Application_M_Page_012.png\"},{\"fileName\":\"Application_M_Page_013.png\"},{\"fileName\":\"Application_M_Page_014.png\"},{\"fileName\":\"Application_M_Page_015.png\"},{\"fileName\":\"Application_M_Page_016.png\"},{\"fileName\":\"Application_M_Page_017.png\"},{\"fileName\":\"Application_M_Page_018.png\"},{\"fileName\":\"Application_M_Page_019.png\"},{\"fileName\":\"Application_M_Page_020.png\"},{\"fileName\":\"Application_M_Page_021.png\"},{\"fileName\":\"Application_M_Page_022.png\"},{\"fileName\":\"Application_M_Page_023.png\"},{\"fileName\":\"Application_M_Page_024.png\"},{\"fileName\":\"Application_M_Page_025.png\"},{\"fileName\":\"Application_M_Page_026.png\"},{\"fileName\":\"Application_M_Page_027.png\"},{\"fileName\":\"Application_M_Page_028.png\"},{\"fileName\":\"Application_M_Page_029.png\"},{\"fileName\":\"Application_M_Page_030.png\"},{\"fileName\":\"Application_M_Page_031.png\"},{\"fileName\":\"Application_M_Page_032.png\"},{\"fileName\":\"Application_M_Page_033.png\"},{\"fileName\":\"Application_M_Page_034.png\"},{\"fileName\":\"Application_M_Page_035.png\"},{\"fileName\":\"Application_M_Page_036.png\"},{\"fileName\":\"Application_M_Page_037.png\"},{\"fileName\":\"Application_M_Page_038.png\"},{\"fileName\":\"Application_M_Page_039.png\"},{\"fileName\":\"Application_M_Page_040.png\"},{\"fileName\":\"Application_M_Page_041.png\"},{\"fileName\":\"Application_M_Page_042.png\"},{\"fileName\":\"Application_M_Page_043.png\"},{\"fileName\":\"Application_M_Page_044.png\"},{\"fileName\":\"Application_M_Page_045.png\"},{\"fileName\":\"Application_M_Page_046.png\"},{\"fileName\":\"Application_M_Page_047.png\"},{\"fileName\":\"Application_M_Page_048.png\"},{\"fileName\":\"Application_M_Page_049.png\"},{\"fileName\":\"Application_M_Page_050.png\"},{\"fileName\":\"Application_M_Page_051.png\"},{\"fileName\":\"Application_M_Page_052.png\"},{\"fileName\":\"Application_M_Page_053.png\"},{\"fileName\":\"Application_M_Page_054.png\"},{\"fileName\":\"Application_M_Page_055.png\"},{\"fileName\":\"Application_M_Page_056.png\"},{\"fileName\":\"Application_M_Page_057.png\"},{\"fileName\":\"Application_M_Page_058.png\"},{\"fileName\":\"Application_M_Page_059.png\"},{\"fileName\":\"Application_M_Page_060.png\"},{\"fileName\":\"Application_M_Page_061.png\"},{\"fileName\":\"Application_M_Page_062.png\"},{\"fileName\":\"Application_M_Page_063.png\"},{\"fileName\":\"Application_M_Page_064.png\"},{\"fileName\":\"Application_M_Page_065.png\"},{\"fileName\":\"Application_M_Page_066.png\"},{\"fileName\":\"Application_M_Page_067.png\"},{\"fileName\":\"Application_M_Page_068.png\"},{\"fileName\":\"Application_M_Page_069.png\"},{\"fileName\":\"Application_M_Page_070.png\"},{\"fileName\":\"Application_M_Page_071.png\"},{\"fileName\":\"Application_M_Page_072.png\"},{\"fileName\":\"Application_M_Page_073.png\"},{\"fileName\":\"Application_M_Page_074.png\"},{\"fileName\":\"Application_M_Page_075.png\"},{\"fileName\":\"Application_M_Page_076.png\"},{\"fileName\":\"Application_M_Page_077.png\"},{\"fileName\":\"Application_M_Page_078.png\"},{\"fileName\":\"Application_M_Page_079.png\"},{\"fileName\":\"Application_M_Page_080.png\"},{\"fileName\":\"Application_M_Page_081.png\"},{\"fileName\":\"Application_M_Page_082.png\"},{\"fileName\":\"Application_M_Page_083.png\"},{\"fileName\":\"Application_M_Page_084.png\"},{\"fileName\":\"Application_M_Page_085.png\"},{\"fileName\":\"Application_M_Page_086.png\"},{\"fileName\":\"Application_M_Page_087.png\"},{\"fileName\":\"Application_M_Page_088.png\"},{\"fileName\":\"Application_M_Page_089.png\"},{\"fileName\":\"Application_M_Page_090.png\"},{\"fileName\":\"Application_M_Page_091.png\"},{\"fileName\":\"Application_M_Page_092.png\"},{\"fileName\":\"Application_M_Page_093.png\"},{\"fileName\":\"Application_M_Page_094.png\"},{\"fileName\":\"Application_M_Page_095.png\"},{\"fileName\":\"Application_M_Page_096.png\"},{\"fileName\":\"Application_M_Page_097.png\"},{\"fileName\":\"Application_M_Page_098.png\"},{\"fileName\":\"Application_M_Page_099.png\"},{\"fileName\":\"Application_M_Page_100.png\"},{\"fileName\":\"Application_M_Page_101.png\"},{\"fileName\":\"Application_M_Page_102.png\"},{\"fileName\":\"Application_M_Page_103.png\"},{\"fileName\":\"Application_M_Page_104.png\"},{\"fileName\":\"Application_M_Page_105.png\"},{\"fileName\":\"Application_M_Page_106.png\"},{\"fileName\":\"Application_M_Page_107.png\"},{\"fileName\":\"Application_M_Page_108.png\"},{\"fileName\":\"Application_M_Page_109.png\"},{\"fileName\":\"Application_M_Page_110.png\"},{\"fileName\":\"Application_M_Page_111.png\"},{\"fileName\":\"Application_M_Page_112.png\"},{\"fileName\":\"Application_M_Page_113.png\"},{\"fileName\":\"Application_M_Page_114.png\"},{\"fileName\":\"Application_M_Page_115.png\"},{\"fileName\":\"Application_M_Page_116.png\"},{\"fileName\":\"Application_M_Page_117.png\"},{\"fileName\":\"Application_M_Page_118.png\"},{\"fileName\":\"Application_M_Page_119.png\"},{\"fileName\":\"Application_M_Page_120.png\"},{\"fileName\":\"Application_M_Page_121.png\"},{\"fileName\":\"Application_M_Page_122.png\"},{\"fileName\":\"Application_M_Page_123.png\"},{\"fileName\":\"Application_M_Page_124.png\"},{\"fileName\":\"Application_M_Page_125.png\"},{\"fileName\":\"Application_M_Page_126.png\"},{\"fileName\":\"Application_M_Page_127.png\"},{\"fileName\":\"Application_M_Page_128.png\"},{\"fileName\":\"Application_M_Page_129.png\"},{\"fileName\":\"Application_M_Page_130.png\"},{\"fileName\":\"Application_M_Page_131.png\"},{\"fileName\":\"Application_M_Page_132.png\"},{\"fileName\":\"Application_M_Page_133.png\"},{\"fileName\":\"Application_M_Page_134.png\"},{\"fileName\":\"Application_M_Page_135.png\"},{\"fileName\":\"Application_M_Page_136.png\"},{\"fileName\":\"Application_M_Page_137.png\"},{\"fileName\":\"Application_M_Page_138.png\"},{\"fileName\":\"Application_M_Page_139.png\"},{\"fileName\":\"Application_M_Page_140.png\"},{\"fileName\":\"Application_M_Page_141.png\"},{\"fileName\":\"Application_M_Page_142.png\"},{\"fileName\":\"Application_M_Page_143.png\"},{\"fileName\":\"Application_M_Page_144.png\"},{\"fileName\":\"Application_M_Page_145.png\"},{\"fileName\":\"Application_M_Page_146.png\"},{\"fileName\":\"Application_M_Page_147.png\"},{\"fileName\":\"Application_M_Page_148.png\"},{\"fileName\":\"Application_M_Page_149.png\"},{\"fileName\":\"Application_M_Page_150.png\"},{\"fileName\":\"Application_M_Page_151.png\"},{\"fileName\":\"Application_M_Page_152.png\"},{\"fileName\":\"Application_M_Page_153.png\"},{\"fileName\":\"Application_M_Page_154.png\"},{\"fileName\":\"Application_M_Page_155.png\"},{\"fileName\":\"Application_M_Page_156.png\"},{\"fileName\":\"Application_M_Page_157.png\"},{\"fileName\":\"Application_M_Page_158.png\"},{\"fileName\":\"Application_M_Page_159.png\"},{\"fileName\":\"Application_M_Page_160.png\"},{\"fileName\":\"Application_M_Page_161.png\"},{\"fileName\":\"Application_M_Page_162.png\"},{\"fileName\":\"Application_M_Page_163.png\"},{\"fileName\":\"Application_M_Page_164.png\"},{\"fileName\":\"Application_M_Page_165.png\"},{\"fileName\":\"Application_M_Page_166.png\"},{\"fileName\":\"Application_M_Page_167.png\"},{\"fileName\":\"Application_M_Page_168.png\"},{\"fileName\":\"Application_M_Page_169.png\"},{\"fileName\":\"Application_M_Page_170.png\"},{\"fileName\":\"Application_M_Page_171.png\"},{\"fileName\":\"Application_M_Page_172.png\"},{\"fileName\":\"Application_M_Page_173.png\"},{\"fileName\":\"Application_M_Page_174.png\"},{\"fileName\":\"Application_M_Page_175.png\"},{\"fileName\":\"Application_M_Page_176.png\"},{\"fileName\":\"Application_M_Page_177.png\"},{\"fileName\":\"Application_M_Page_178.png\"},{\"fileName\":\"Application_M_Page_179.png\"},{\"fileName\":\"Application_M_Page_180.png\"},{\"fileName\":\"Application_M_Page_181.png\"},{\"fileName\":\"Application_M_Page_182.png\"},{\"fileName\":\"Application_M_Page_183.png\"},{\"fileName\":\"Application_M_Page_184.png\"},{\"fileName\":\"Application_M_Page_185.png\"},{\"fileName\":\"Application_M_Page_186.png\"},{\"fileName\":\"Application_M_Page_187.png\"},{\"fileName\":\"Application_M_Page_188.png\"},{\"fileName\":\"Application_M_Page_189.png\"},{\"fileName\":\"Application_M_Page_190.png\"},{\"fileName\":\"Application_M_Page_191.png\"},{\"fileName\":\"Application_M_Page_192.png\"},{\"fileName\":\"Application_M_Page_193.png\"},{\"fileName\":\"Application_M_Page_194.png\"},{\"fileName\":\"Application_M_Page_195.png\"},{\"fileName\":\"Application_M_Page_196.png\"},{\"fileName\":\"Application_M_Page_197.png\"},{\"fileName\":\"Application_M_Page_198.png\"},{\"fileName\":\"Application_M_Page_199.png\"},{\"fileName\":\"Application_M_Page_200.png\"},{\"fileName\":\"Application_S_Page_001.png\"},{\"fileName\":\"Application_S_Page_002.png\"},{\"fileName\":\"Application_S_Page_003.png\"},{\"fileName\":\"Application_S_Page_004.png\"},{\"fileName\":\"Application_S_Page_005.png\"},{\"fileName\":\"Application_S_Page_006.png\"},{\"fileName\":\"Application_S_Page_007.png\"},{\"fileName\":\"Application_S_Page_008.png\"},{\"fileName\":\"Application_S_Page_009.png\"},{\"fileName\":\"Application_S_Page_010.png\"},{\"fileName\":\"Application_S_Page_011.png\"},{\"fileName\":\"Application_S_Page_012.png\"},{\"fileName\":\"Application_S_Page_013.png\"},{\"fileName\":\"Application_S_Page_014.png\"},{\"fileName\":\"Application_S_Page_015.png\"},{\"fileName\":\"Application_S_Page_016.png\"},{\"fileName\":\"Application_S_Page_017.png\"},{\"fileName\":\"Application_S_Page_018.png\"},{\"fileName\":\"Application_S_Page_019.png\"},{\"fileName\":\"Application_S_Page_020.png\"},{\"fileName\":\"Application_S_Page_021.png\"},{\"fileName\":\"Application_S_Page_022.png\"},{\"fileName\":\"Application_S_Page_023.png\"},{\"fileName\":\"Application_S_Page_024.png\"},{\"fileName\":\"Application_S_Page_025.png\"},{\"fileName\":\"Application_S_Page_026.png\"},{\"fileName\":\"Application_S_Page_027.png\"},{\"fileName\":\"Application_S_Page_028.png\"},{\"fileName\":\"Application_S_Page_029.png\"},{\"fileName\":\"Application_S_Page_030.png\"},{\"fileName\":\"Application_S_Page_031.png\"},{\"fileName\":\"Application_S_Page_032.png\"},{\"fileName\":\"Application_S_Page_033.png\"},{\"fileName\":\"Application_S_Page_034.png\"},{\"fileName\":\"Application_S_Page_035.png\"},{\"fileName\":\"Application_S_Page_036.png\"},{\"fileName\":\"Application_S_Page_037.png\"},{\"fileName\":\"Application_S_Page_038.png\"},{\"fileName\":\"Application_S_Page_039.png\"},{\"fileName\":\"Application_S_Page_040.png\"},{\"fileName\":\"Application_S_Page_041.png\"},{\"fileName\":\"Application_S_Page_042.png\"},{\"fileName\":\"Application_S_Page_043.png\"},{\"fileName\":\"Application_S_Page_044.png\"},{\"fileName\":\"Application_S_Page_045.png\"},{\"fileName\":\"Application_S_Page_046.png\"},{\"fileName\":\"Application_S_Page_047.png\"},{\"fileName\":\"Application_S_Page_048.png\"},{\"fileName\":\"Application_S_Page_049.png\"},{\"fileName\":\"Application_S_Page_050.png\"},{\"fileName\":\"Application_S_Page_051.png\"},{\"fileName\":\"Application_S_Page_052.png\"},{\"fileName\":\"Application_S_Page_053.png\"},{\"fileName\":\"Application_S_Page_054.png\"},{\"fileName\":\"Application_S_Page_055.png\"},{\"fileName\":\"Application_S_Page_056.png\"},{\"fileName\":\"Application_S_Page_057.png\"},{\"fileName\":\"Application_S_Page_058.png\"},{\"fileName\":\"Application_S_Page_059.png\"},{\"fileName\":\"Application_S_Page_060.png\"},{\"fileName\":\"Application_S_Page_061.png\"},{\"fileName\":\"Application_S_Page_062.png\"},{\"fileName\":\"Application_S_Page_063.png\"},{\"fileName\":\"Application_S_Page_064.png\"},{\"fileName\":\"Application_S_Page_065.png\"},{\"fileName\":\"Application_S_Page_066.png\"},{\"fileName\":\"Application_S_Page_067.png\"},{\"fileName\":\"Application_S_Page_068.png\"},{\"fileName\":\"Application_S_Page_069.png\"},{\"fileName\":\"Application_S_Page_070.png\"},{\"fileName\":\"Application_S_Page_071.png\"},{\"fileName\":\"Application_S_Page_072.png\"},{\"fileName\":\"Application_S_Page_073.png\"},{\"fileName\":\"Application_S_Page_074.png\"},{\"fileName\":\"Application_S_Page_075.png\"},{\"fileName\":\"Application_S_Page_076.png\"},{\"fileName\":\"Application_S_Page_077.png\"},{\"fileName\":\"Application_S_Page_078.png\"},{\"fileName\":\"Application_S_Page_079.png\"},{\"fileName\":\"Application_S_Page_080.png\"},{\"fileName\":\"Application_S_Page_081.png\"},{\"fileName\":\"Application_S_Page_082.png\"},{\"fileName\":\"Application_S_Page_083.png\"},{\"fileName\":\"Application_S_Page_084.png\"},{\"fileName\":\"Application_S_Page_085.png\"},{\"fileName\":\"Application_S_Page_086.png\"},{\"fileName\":\"Application_S_Page_087.png\"},{\"fileName\":\"Application_S_Page_088.png\"},{\"fileName\":\"Application_S_Page_089.png\"},{\"fileName\":\"Application_S_Page_090.png\"},{\"fileName\":\"Application_S_Page_091.png\"},{\"fileName\":\"Application_S_Page_092.png\"},{\"fileName\":\"Application_S_Page_093.png\"},{\"fileName\":\"Application_S_Page_094.png\"},{\"fileName\":\"Application_S_Page_095.png\"},{\"fileName\":\"Application_S_Page_096.png\"},{\"fileName\":\"Application_S_Page_097.png\"},{\"fileName\":\"Application_S_Page_098.png\"},{\"fileName\":\"Application_S_Page_099.png\"},{\"fileName\":\"Application_S_Page_100.png\"},{\"fileName\":\"Application_S_Page_101.png\"},{\"fileName\":\"Photo.lnk\"},{\"fileName\":\"test_application.png\"},{\"fileName\":\"Video.lnk\"}]\n",
                        "[{'fileName': 'Application_L_Page_002.png'}, {'fileName': 'Application_L_Page_003.png'}, {'fileName': 'Application_L_Page_004.png'}, {'fileName': 'Application_L_Page_005.png'}, {'fileName': 'Application_L_Page_006.png'}, {'fileName': 'Application_L_Page_007.png'}, {'fileName': 'Application_L_Page_008.png'}, {'fileName': 'Application_L_Page_009.png'}, {'fileName': 'Application_L_Page_010.png'}, {'fileName': 'Application_L_Page_011.png'}, {'fileName': 'Application_L_Page_012.png'}, {'fileName': 'Application_L_Page_013.png'}, {'fileName': 'Application_L_Page_014.png'}, {'fileName': 'Application_L_Page_015.png'}, {'fileName': 'Application_L_Page_016.png'}, {'fileName': 'Application_L_Page_017.png'}, {'fileName': 'Application_L_Page_018.png'}, {'fileName': 'Application_L_Page_019.png'}, {'fileName': 'Application_L_Page_020.png'}, {'fileName': 'Application_L_Page_021.png'}, {'fileName': 'Application_L_Page_022.png'}, {'fileName': 'Application_L_Page_023.png'}, {'fileName': 'Application_L_Page_024.png'}, {'fileName': 'Application_L_Page_025.png'}, {'fileName': 'Application_L_Page_026.png'}, {'fileName': 'Application_L_Page_027.png'}, {'fileName': 'Application_L_Page_028.png'}, {'fileName': 'Application_L_Page_029.png'}, {'fileName': 'Application_L_Page_030.png'}, {'fileName': 'Application_L_Page_031.png'}, {'fileName': 'Application_L_Page_032.png'}, {'fileName': 'Application_L_Page_033.png'}, {'fileName': 'Application_L_Page_034.png'}, {'fileName': 'Application_L_Page_035.png'}, {'fileName': 'Application_L_Page_036.png'}, {'fileName': 'Application_L_Page_037.png'}, {'fileName': 'Application_L_Page_038.png'}, {'fileName': 'Application_L_Page_039.png'}, {'fileName': 'Application_L_Page_040.png'}, {'fileName': 'Application_L_Page_041.png'}, {'fileName': 'Application_L_Page_042.png'}, {'fileName': 'Application_L_Page_043.png'}, {'fileName': 'Application_L_Page_044.png'}, {'fileName': 'Application_L_Page_045.png'}, {'fileName': 'Application_L_Page_046.png'}, {'fileName': 'Application_L_Page_047.png'}, {'fileName': 'Application_L_Page_048.png'}, {'fileName': 'Application_L_Page_049.png'}, {'fileName': 'Application_L_Page_050.png'}, {'fileName': 'Application_L_Page_051.png'}, {'fileName': 'Application_L_Page_052.png'}, {'fileName': 'Application_L_Page_053.png'}, {'fileName': 'Application_L_Page_054.png'}, {'fileName': 'Application_L_Page_055.png'}, {'fileName': 'Application_L_Page_056.png'}, {'fileName': 'Application_L_Page_057.png'}, {'fileName': 'Application_L_Page_058.png'}, {'fileName': 'Application_L_Page_059.png'}, {'fileName': 'Application_L_Page_060.png'}, {'fileName': 'Application_L_Page_061.png'}, {'fileName': 'Application_L_Page_062.png'}, {'fileName': 'Application_L_Page_063.png'}, {'fileName': 'Application_L_Page_064.png'}, {'fileName': 'Application_L_Page_065.png'}, {'fileName': 'Application_L_Page_066.png'}, {'fileName': 'Application_L_Page_067.png'}, {'fileName': 'Application_L_Page_068.png'}, {'fileName': 'Application_L_Page_069.png'}, {'fileName': 'Application_L_Page_070.png'}, {'fileName': 'Application_L_Page_071.png'}, {'fileName': 'Application_L_Page_072.png'}, {'fileName': 'Application_L_Page_073.png'}, {'fileName': 'Application_L_Page_074.png'}, {'fileName': 'Application_L_Page_075.png'}, {'fileName': 'Application_L_Page_076.png'}, {'fileName': 'Application_L_Page_077.png'}, {'fileName': 'Application_L_Page_078.png'}, {'fileName': 'Application_L_Page_079.png'}, {'fileName': 'Application_L_Page_080.png'}, {'fileName': 'Application_L_Page_081.png'}, {'fileName': 'Application_L_Page_082.png'}, {'fileName': 'Application_L_Page_083.png'}, {'fileName': 'Application_L_Page_084.png'}, {'fileName': 'Application_L_Page_085.png'}, {'fileName': 'Application_L_Page_086.png'}, {'fileName': 'Application_L_Page_087.png'}, {'fileName': 'Application_L_Page_088.png'}, {'fileName': 'Application_L_Page_089.png'}, {'fileName': 'Application_L_Page_090.png'}, {'fileName': 'Application_L_Page_091.png'}, {'fileName': 'Application_L_Page_092.png'}, {'fileName': 'Application_L_Page_093.png'}, {'fileName': 'Application_L_Page_094.png'}, {'fileName': 'Application_L_Page_095.png'}, {'fileName': 'Application_L_Page_096.png'}, {'fileName': 'Application_L_Page_097.png'}, {'fileName': 'Application_L_Page_098.png'}, {'fileName': 'Application_L_Page_099.png'}, {'fileName': 'Application_L_Page_100.png'}, {'fileName': 'Application_L_Page_101.png'}, {'fileName': 'Application_L_Page_102.png'}, {'fileName': 'Application_L_Page_103.png'}, {'fileName': 'Application_L_Page_104.png'}, {'fileName': 'Application_L_Page_105.png'}, {'fileName': 'Application_L_Page_106.png'}, {'fileName': 'Application_L_Page_107.png'}, {'fileName': 'Application_L_Page_108.png'}, {'fileName': 'Application_L_Page_109.png'}, {'fileName': 'Application_L_Page_110.png'}, {'fileName': 'Application_L_Page_111.png'}, {'fileName': 'Application_L_Page_112.png'}, {'fileName': 'Application_L_Page_113.png'}, {'fileName': 'Application_L_Page_114.png'}, {'fileName': 'Application_L_Page_115.png'}, {'fileName': 'Application_L_Page_116.png'}, {'fileName': 'Application_L_Page_117.png'}, {'fileName': 'Application_L_Page_118.png'}, {'fileName': 'Application_L_Page_119.png'}, {'fileName': 'Application_L_Page_120.png'}, {'fileName': 'Application_L_Page_121.png'}, {'fileName': 'Application_L_Page_122.png'}, {'fileName': 'Application_L_Page_123.png'}, {'fileName': 'Application_L_Page_124.png'}, {'fileName': 'Application_L_Page_125.png'}, {'fileName': 'Application_L_Page_126.png'}, {'fileName': 'Application_L_Page_127.png'}, {'fileName': 'Application_L_Page_128.png'}, {'fileName': 'Application_L_Page_129.png'}, {'fileName': 'Application_L_Page_130.png'}, {'fileName': 'Application_L_Page_131.png'}, {'fileName': 'Application_L_Page_132.png'}, {'fileName': 'Application_L_Page_133.png'}, {'fileName': 'Application_L_Page_134.png'}, {'fileName': 'Application_L_Page_135.png'}, {'fileName': 'Application_L_Page_136.png'}, {'fileName': 'Application_L_Page_137.png'}, {'fileName': 'Application_L_Page_138.png'}, {'fileName': 'Application_L_Page_139.png'}, {'fileName': 'Application_L_Page_140.png'}, {'fileName': 'Application_L_Page_141.png'}, {'fileName': 'Application_L_Page_142.png'}, {'fileName': 'Application_L_Page_143.png'}, {'fileName': 'Application_L_Page_144.png'}, {'fileName': 'Application_L_Page_145.png'}, {'fileName': 'Application_L_Page_146.png'}, {'fileName': 'Application_L_Page_147.png'}, {'fileName': 'Application_L_Page_148.png'}, {'fileName': 'Application_L_Page_149.png'}, {'fileName': 'Application_L_Page_150.png'}, {'fileName': 'Application_L_Page_151.png'}, {'fileName': 'Application_L_Page_152.png'}, {'fileName': 'Application_L_Page_153.png'}, {'fileName': 'Application_L_Page_154.png'}, {'fileName': 'Application_L_Page_155.png'}, {'fileName': 'Application_L_Page_156.png'}, {'fileName': 'Application_L_Page_157.png'}, {'fileName': 'Application_L_Page_158.png'}, {'fileName': 'Application_L_Page_159.png'}, {'fileName': 'Application_L_Page_160.png'}, {'fileName': 'Application_L_Page_161.png'}, {'fileName': 'Application_L_Page_162.png'}, {'fileName': 'Application_L_Page_163.png'}, {'fileName': 'Application_L_Page_164.png'}, {'fileName': 'Application_L_Page_165.png'}, {'fileName': 'Application_L_Page_166.png'}, {'fileName': 'Application_L_Page_167.png'}, {'fileName': 'Application_L_Page_168.png'}, {'fileName': 'Application_L_Page_169.png'}, {'fileName': 'Application_L_Page_170.png'}, {'fileName': 'Application_L_Page_171.png'}, {'fileName': 'Application_L_Page_172.png'}, {'fileName': 'Application_L_Page_173.png'}, {'fileName': 'Application_L_Page_174.png'}, {'fileName': 'Application_L_Page_175.png'}, {'fileName': 'Application_L_Page_176.png'}, {'fileName': 'Application_L_Page_177.png'}, {'fileName': 'Application_L_Page_178.png'}, {'fileName': 'Application_L_Page_179.png'}, {'fileName': 'Application_L_Page_180.png'}, {'fileName': 'Application_L_Page_181.png'}, {'fileName': 'Application_L_Page_182.png'}, {'fileName': 'Application_L_Page_183.png'}, {'fileName': 'Application_L_Page_184.png'}, {'fileName': 'Application_L_Page_185.png'}, {'fileName': 'Application_L_Page_186.png'}, {'fileName': 'Application_L_Page_187.png'}, {'fileName': 'Application_L_Page_188.png'}, {'fileName': 'Application_L_Page_189.png'}, {'fileName': 'Application_L_Page_190.png'}, {'fileName': 'Application_L_Page_191.png'}, {'fileName': 'Application_L_Page_192.png'}, {'fileName': 'Application_L_Page_193.png'}, {'fileName': 'Application_L_Page_194.png'}, {'fileName': 'Application_L_Page_195.png'}, {'fileName': 'Application_L_Page_196.png'}, {'fileName': 'Application_L_Page_197.png'}, {'fileName': 'Application_L_Page_198.png'}, {'fileName': 'Application_L_Page_199.png'}, {'fileName': 'Application_L_Page_200.png'}, {'fileName': 'Application_L_Page_201.png'}, {'fileName': 'Application_L_Page_202.png'}, {'fileName': 'Application_L_Page_203.png'}, {'fileName': 'Application_L_Page_204.png'}, {'fileName': 'Application_L_Page_205.png'}, {'fileName': 'Application_L_Page_206.png'}, {'fileName': 'Application_L_Page_207.png'}, {'fileName': 'Application_M_Page_001.png'}, {'fileName': 'Application_M_Page_002.png'}, {'fileName': 'Application_M_Page_003.png'}, {'fileName': 'Application_M_Page_004.png'}, {'fileName': 'Application_M_Page_005.png'}, {'fileName': 'Application_M_Page_006.png'}, {'fileName': 'Application_M_Page_007.png'}, {'fileName': 'Application_M_Page_008.png'}, {'fileName': 'Application_M_Page_009.png'}, {'fileName': 'Application_M_Page_010.png'}, {'fileName': 'Application_M_Page_011.png'}, {'fileName': 'Application_M_Page_012.png'}, {'fileName': 'Application_M_Page_013.png'}, {'fileName': 'Application_M_Page_014.png'}, {'fileName': 'Application_M_Page_015.png'}, {'fileName': 'Application_M_Page_016.png'}, {'fileName': 'Application_M_Page_017.png'}, {'fileName': 'Application_M_Page_018.png'}, {'fileName': 'Application_M_Page_019.png'}, {'fileName': 'Application_M_Page_020.png'}, {'fileName': 'Application_M_Page_021.png'}, {'fileName': 'Application_M_Page_022.png'}, {'fileName': 'Application_M_Page_023.png'}, {'fileName': 'Application_M_Page_024.png'}, {'fileName': 'Application_M_Page_025.png'}, {'fileName': 'Application_M_Page_026.png'}, {'fileName': 'Application_M_Page_027.png'}, {'fileName': 'Application_M_Page_028.png'}, {'fileName': 'Application_M_Page_029.png'}, {'fileName': 'Application_M_Page_030.png'}, {'fileName': 'Application_M_Page_031.png'}, {'fileName': 'Application_M_Page_032.png'}, {'fileName': 'Application_M_Page_033.png'}, {'fileName': 'Application_M_Page_034.png'}, {'fileName': 'Application_M_Page_035.png'}, {'fileName': 'Application_M_Page_036.png'}, {'fileName': 'Application_M_Page_037.png'}, {'fileName': 'Application_M_Page_038.png'}, {'fileName': 'Application_M_Page_039.png'}, {'fileName': 'Application_M_Page_040.png'}, {'fileName': 'Application_M_Page_041.png'}, {'fileName': 'Application_M_Page_042.png'}, {'fileName': 'Application_M_Page_043.png'}, {'fileName': 'Application_M_Page_044.png'}, {'fileName': 'Application_M_Page_045.png'}, {'fileName': 'Application_M_Page_046.png'}, {'fileName': 'Application_M_Page_047.png'}, {'fileName': 'Application_M_Page_048.png'}, {'fileName': 'Application_M_Page_049.png'}, {'fileName': 'Application_M_Page_050.png'}, {'fileName': 'Application_M_Page_051.png'}, {'fileName': 'Application_M_Page_052.png'}, {'fileName': 'Application_M_Page_053.png'}, {'fileName': 'Application_M_Page_054.png'}, {'fileName': 'Application_M_Page_055.png'}, {'fileName': 'Application_M_Page_056.png'}, {'fileName': 'Application_M_Page_057.png'}, {'fileName': 'Application_M_Page_058.png'}, {'fileName': 'Application_M_Page_059.png'}, {'fileName': 'Application_M_Page_060.png'}, {'fileName': 'Application_M_Page_061.png'}, {'fileName': 'Application_M_Page_062.png'}, {'fileName': 'Application_M_Page_063.png'}, {'fileName': 'Application_M_Page_064.png'}, {'fileName': 'Application_M_Page_065.png'}, {'fileName': 'Application_M_Page_066.png'}, {'fileName': 'Application_M_Page_067.png'}, {'fileName': 'Application_M_Page_068.png'}, {'fileName': 'Application_M_Page_069.png'}, {'fileName': 'Application_M_Page_070.png'}, {'fileName': 'Application_M_Page_071.png'}, {'fileName': 'Application_M_Page_072.png'}, {'fileName': 'Application_M_Page_073.png'}, {'fileName': 'Application_M_Page_074.png'}, {'fileName': 'Application_M_Page_075.png'}, {'fileName': 'Application_M_Page_076.png'}, {'fileName': 'Application_M_Page_077.png'}, {'fileName': 'Application_M_Page_078.png'}, {'fileName': 'Application_M_Page_079.png'}, {'fileName': 'Application_M_Page_080.png'}, {'fileName': 'Application_M_Page_081.png'}, {'fileName': 'Application_M_Page_082.png'}, {'fileName': 'Application_M_Page_083.png'}, {'fileName': 'Application_M_Page_084.png'}, {'fileName': 'Application_M_Page_085.png'}, {'fileName': 'Application_M_Page_086.png'}, {'fileName': 'Application_M_Page_087.png'}, {'fileName': 'Application_M_Page_088.png'}, {'fileName': 'Application_M_Page_089.png'}, {'fileName': 'Application_M_Page_090.png'}, {'fileName': 'Application_M_Page_091.png'}, {'fileName': 'Application_M_Page_092.png'}, {'fileName': 'Application_M_Page_093.png'}, {'fileName': 'Application_M_Page_094.png'}, {'fileName': 'Application_M_Page_095.png'}, {'fileName': 'Application_M_Page_096.png'}, {'fileName': 'Application_M_Page_097.png'}, {'fileName': 'Application_M_Page_098.png'}, {'fileName': 'Application_M_Page_099.png'}, {'fileName': 'Application_M_Page_100.png'}, {'fileName': 'Application_M_Page_101.png'}, {'fileName': 'Application_M_Page_102.png'}, {'fileName': 'Application_M_Page_103.png'}, {'fileName': 'Application_M_Page_104.png'}, {'fileName': 'Application_M_Page_105.png'}, {'fileName': 'Application_M_Page_106.png'}, {'fileName': 'Application_M_Page_107.png'}, {'fileName': 'Application_M_Page_108.png'}, {'fileName': 'Application_M_Page_109.png'}, {'fileName': 'Application_M_Page_110.png'}, {'fileName': 'Application_M_Page_111.png'}, {'fileName': 'Application_M_Page_112.png'}, {'fileName': 'Application_M_Page_113.png'}, {'fileName': 'Application_M_Page_114.png'}, {'fileName': 'Application_M_Page_115.png'}, {'fileName': 'Application_M_Page_116.png'}, {'fileName': 'Application_M_Page_117.png'}, {'fileName': 'Application_M_Page_118.png'}, {'fileName': 'Application_M_Page_119.png'}, {'fileName': 'Application_M_Page_120.png'}, {'fileName': 'Application_M_Page_121.png'}, {'fileName': 'Application_M_Page_122.png'}, {'fileName': 'Application_M_Page_123.png'}, {'fileName': 'Application_M_Page_124.png'}, {'fileName': 'Application_M_Page_125.png'}, {'fileName': 'Application_M_Page_126.png'}, {'fileName': 'Application_M_Page_127.png'}, {'fileName': 'Application_M_Page_128.png'}, {'fileName': 'Application_M_Page_129.png'}, {'fileName': 'Application_M_Page_130.png'}, {'fileName': 'Application_M_Page_131.png'}, {'fileName': 'Application_M_Page_132.png'}, {'fileName': 'Application_M_Page_133.png'}, {'fileName': 'Application_M_Page_134.png'}, {'fileName': 'Application_M_Page_135.png'}, {'fileName': 'Application_M_Page_136.png'}, {'fileName': 'Application_M_Page_137.png'}, {'fileName': 'Application_M_Page_138.png'}, {'fileName': 'Application_M_Page_139.png'}, {'fileName': 'Application_M_Page_140.png'}, {'fileName': 'Application_M_Page_141.png'}, {'fileName': 'Application_M_Page_142.png'}, {'fileName': 'Application_M_Page_143.png'}, {'fileName': 'Application_M_Page_144.png'}, {'fileName': 'Application_M_Page_145.png'}, {'fileName': 'Application_M_Page_146.png'}, {'fileName': 'Application_M_Page_147.png'}, {'fileName': 'Application_M_Page_148.png'}, {'fileName': 'Application_M_Page_149.png'}, {'fileName': 'Application_M_Page_150.png'}, {'fileName': 'Application_M_Page_151.png'}, {'fileName': 'Application_M_Page_152.png'}, {'fileName': 'Application_M_Page_153.png'}, {'fileName': 'Application_M_Page_154.png'}, {'fileName': 'Application_M_Page_155.png'}, {'fileName': 'Application_M_Page_156.png'}, {'fileName': 'Application_M_Page_157.png'}, {'fileName': 'Application_M_Page_158.png'}, {'fileName': 'Application_M_Page_159.png'}, {'fileName': 'Application_M_Page_160.png'}, {'fileName': 'Application_M_Page_161.png'}, {'fileName': 'Application_M_Page_162.png'}, {'fileName': 'Application_M_Page_163.png'}, {'fileName': 'Application_M_Page_164.png'}, {'fileName': 'Application_M_Page_165.png'}, {'fileName': 'Application_M_Page_166.png'}, {'fileName': 'Application_M_Page_167.png'}, {'fileName': 'Application_M_Page_168.png'}, {'fileName': 'Application_M_Page_169.png'}, {'fileName': 'Application_M_Page_170.png'}, {'fileName': 'Application_M_Page_171.png'}, {'fileName': 'Application_M_Page_172.png'}, {'fileName': 'Application_M_Page_173.png'}, {'fileName': 'Application_M_Page_174.png'}, {'fileName': 'Application_M_Page_175.png'}, {'fileName': 'Application_M_Page_176.png'}, {'fileName': 'Application_M_Page_177.png'}, {'fileName': 'Application_M_Page_178.png'}, {'fileName': 'Application_M_Page_179.png'}, {'fileName': 'Application_M_Page_180.png'}, {'fileName': 'Application_M_Page_181.png'}, {'fileName': 'Application_M_Page_182.png'}, {'fileName': 'Application_M_Page_183.png'}, {'fileName': 'Application_M_Page_184.png'}, {'fileName': 'Application_M_Page_185.png'}, {'fileName': 'Application_M_Page_186.png'}, {'fileName': 'Application_M_Page_187.png'}, {'fileName': 'Application_M_Page_188.png'}, {'fileName': 'Application_M_Page_189.png'}, {'fileName': 'Application_M_Page_190.png'}, {'fileName': 'Application_M_Page_191.png'}, {'fileName': 'Application_M_Page_192.png'}, {'fileName': 'Application_M_Page_193.png'}, {'fileName': 'Application_M_Page_194.png'}, {'fileName': 'Application_M_Page_195.png'}, {'fileName': 'Application_M_Page_196.png'}, {'fileName': 'Application_M_Page_197.png'}, {'fileName': 'Application_M_Page_198.png'}, {'fileName': 'Application_M_Page_199.png'}, {'fileName': 'Application_M_Page_200.png'}, {'fileName': 'Application_S_Page_001.png'}, {'fileName': 'Application_S_Page_002.png'}, {'fileName': 'Application_S_Page_003.png'}, {'fileName': 'Application_S_Page_004.png'}, {'fileName': 'Application_S_Page_005.png'}, {'fileName': 'Application_S_Page_006.png'}, {'fileName': 'Application_S_Page_007.png'}, {'fileName': 'Application_S_Page_008.png'}, {'fileName': 'Application_S_Page_009.png'}, {'fileName': 'Application_S_Page_010.png'}, {'fileName': 'Application_S_Page_011.png'}, {'fileName': 'Application_S_Page_012.png'}, {'fileName': 'Application_S_Page_013.png'}, {'fileName': 'Application_S_Page_014.png'}, {'fileName': 'Application_S_Page_015.png'}, {'fileName': 'Application_S_Page_016.png'}, {'fileName': 'Application_S_Page_017.png'}, {'fileName': 'Application_S_Page_018.png'}, {'fileName': 'Application_S_Page_019.png'}, {'fileName': 'Application_S_Page_020.png'}, {'fileName': 'Application_S_Page_021.png'}, {'fileName': 'Application_S_Page_022.png'}, {'fileName': 'Application_S_Page_023.png'}, {'fileName': 'Application_S_Page_024.png'}, {'fileName': 'Application_S_Page_025.png'}, {'fileName': 'Application_S_Page_026.png'}, {'fileName': 'Application_S_Page_027.png'}, {'fileName': 'Application_S_Page_028.png'}, {'fileName': 'Application_S_Page_029.png'}, {'fileName': 'Application_S_Page_030.png'}, {'fileName': 'Application_S_Page_031.png'}, {'fileName': 'Application_S_Page_032.png'}, {'fileName': 'Application_S_Page_033.png'}, {'fileName': 'Application_S_Page_034.png'}, {'fileName': 'Application_S_Page_035.png'}, {'fileName': 'Application_S_Page_036.png'}, {'fileName': 'Application_S_Page_037.png'}, {'fileName': 'Application_S_Page_038.png'}, {'fileName': 'Application_S_Page_039.png'}, {'fileName': 'Application_S_Page_040.png'}, {'fileName': 'Application_S_Page_041.png'}, {'fileName': 'Application_S_Page_042.png'}, {'fileName': 'Application_S_Page_043.png'}, {'fileName': 'Application_S_Page_044.png'}, {'fileName': 'Application_S_Page_045.png'}, {'fileName': 'Application_S_Page_046.png'}, {'fileName': 'Application_S_Page_047.png'}, {'fileName': 'Application_S_Page_048.png'}, {'fileName': 'Application_S_Page_049.png'}, {'fileName': 'Application_S_Page_050.png'}, {'fileName': 'Application_S_Page_051.png'}, {'fileName': 'Application_S_Page_052.png'}, {'fileName': 'Application_S_Page_053.png'}, {'fileName': 'Application_S_Page_054.png'}, {'fileName': 'Application_S_Page_055.png'}, {'fileName': 'Application_S_Page_056.png'}, {'fileName': 'Application_S_Page_057.png'}, {'fileName': 'Application_S_Page_058.png'}, {'fileName': 'Application_S_Page_059.png'}, {'fileName': 'Application_S_Page_060.png'}, {'fileName': 'Application_S_Page_061.png'}, {'fileName': 'Application_S_Page_062.png'}, {'fileName': 'Application_S_Page_063.png'}, {'fileName': 'Application_S_Page_064.png'}, {'fileName': 'Application_S_Page_065.png'}, {'fileName': 'Application_S_Page_066.png'}, {'fileName': 'Application_S_Page_067.png'}, {'fileName': 'Application_S_Page_068.png'}, {'fileName': 'Application_S_Page_069.png'}, {'fileName': 'Application_S_Page_070.png'}, {'fileName': 'Application_S_Page_071.png'}, {'fileName': 'Application_S_Page_072.png'}, {'fileName': 'Application_S_Page_073.png'}, {'fileName': 'Application_S_Page_074.png'}, {'fileName': 'Application_S_Page_075.png'}, {'fileName': 'Application_S_Page_076.png'}, {'fileName': 'Application_S_Page_077.png'}, {'fileName': 'Application_S_Page_078.png'}, {'fileName': 'Application_S_Page_079.png'}, {'fileName': 'Application_S_Page_080.png'}, {'fileName': 'Application_S_Page_081.png'}, {'fileName': 'Application_S_Page_082.png'}, {'fileName': 'Application_S_Page_083.png'}, {'fileName': 'Application_S_Page_084.png'}, {'fileName': 'Application_S_Page_085.png'}, {'fileName': 'Application_S_Page_086.png'}, {'fileName': 'Application_S_Page_087.png'}, {'fileName': 'Application_S_Page_088.png'}, {'fileName': 'Application_S_Page_089.png'}, {'fileName': 'Application_S_Page_090.png'}, {'fileName': 'Application_S_Page_091.png'}, {'fileName': 'Application_S_Page_092.png'}, {'fileName': 'Application_S_Page_093.png'}, {'fileName': 'Application_S_Page_094.png'}, {'fileName': 'Application_S_Page_095.png'}, {'fileName': 'Application_S_Page_096.png'}, {'fileName': 'Application_S_Page_097.png'}, {'fileName': 'Application_S_Page_098.png'}, {'fileName': 'Application_S_Page_099.png'}, {'fileName': 'Application_S_Page_100.png'}, {'fileName': 'Application_S_Page_101.png'}, {'fileName': 'Photo.lnk'}, {'fileName': 'test_application.png'}, {'fileName': 'Video.lnk'}]\n"
                    ]
                }
            ],
            "source": [
                "# Framework to make a REST call in Python.  Show what needs to be done to\n",
                "# get different output formats\n",
                "import requests\n",
                "\n",
                "def get_dm_files():\n",
                "    url = \"http://seappserver1.rit.edu/dmservice/api/listfiles\"\n",
                "    hdr = {} #Set the appropriate name:value pair in header to force the data format in XML\n",
                "    response = requests.get(url, headers=hdr)\n",
                "    print(response.text)\n",
                "    #Now make another API call to get Json format. Modify the hdr appropriately\n",
                "    hdr = {'accept': 'application/json'}\n",
                "    response = requests.get(url, headers=hdr)\n",
                "    print(response.json())\n",
                "\n",
                "get_dm_files()"
            ]
        },
        {
            "cell_type": "markdown",
            "metadata": {},
            "source": [
                "#### Practice: File Retrieval\n",
                "\n",
                "Complete the code below to retrieve a single file.  You should be able to pick any file name from the prior list of files "
            ]
        },
        {
            "cell_type": "code",
            "execution_count": null,
            "metadata": {},
            "outputs": [
                {
                    "name": "stdout",
                    "output_type": "stream",
                    "text": [
                        "Getting file\n",
                        "Received file:Application_L_Page_002.png; Saved as:./dm_file.png\n"
                    ]
                }
            ],
            "source": [
                "# Framework to make a REST call in Python.  Show what needs to be done to get a file\n",
                "import requests\n",
                "\n",
                "\n",
                "def get_one_dm_file():\n",
                "    print(\"Getting file\")\n",
                "    fileToRetrieve = \"Application_L_Page_002.png\" #Set this using the correct syntax for the query string param to get a file.  Pick out a valid file based on the ListFiles API from above\n",
                "    command = f\"/downloadfile?fileName={fileToRetrieve}\"\n",
                "    url = f\"http://seappserver1.rit.edu/dmservice/api{command}\"\n",
                "    params = \"\"\n",
                "    headers = \"\"\n",
                "    response = requests.get(url, params) #The file data comes back in the response\n",
                "    if response.status_code != 200:\n",
                "        print(\"Error in retrieving file\")\n",
                "        return\n",
                "    localFile = \"./dm_file.png\"\n",
                "    with open(localFile, \"wb\") as file:\n",
                "        file.write(response.content)\n",
                "        print(\"Received file:\" + fileToRetrieve + \"; Saved as:\" + localFile )\n",
                "\n",
                "\n",
                "\n",
                "\n",
                "get_one_dm_file()\n"
            ]
        },
        {
            "cell_type": "markdown",
            "metadata": {},
            "source": [
                "#### Practice: File Processing\n",
                "\n",
                "Once you have an image file (.png, .jpg ...), you need to extract the data.  The OCR service provides several ways to do this.  Look at the testing app provided to experiment offline, and we will have you replicate the behaviour in this workbook.\n",
                "Write python code to pick take the file you retrieved from the `getfile` API, and then use that file to submit for processing using using the `processfile` API.  Save the text output from the service in a local file and print the contents to the console.\n",
                "Starter code is provided.  Fill in the rest.  \n"
            ]
        },
        {
            "cell_type": "code",
            "execution_count": null,
            "metadata": {},
            "outputs": [
                {
                    "name": "stdout",
                    "output_type": "stream",
                    "text": [
                        "{'_text': 'Registration Application\\nFirst Name: Fidel\\nLast Name: Beer\\nApplication Type : new\\nAddress: 433 Runolfsson Corner\\nCij: West Reina\\nDame: 7/24/1983 l2:00:00 AM\\nEmail: Enola qilli\\n- amson@elfrieda.ca\\nPhone: 669.748.2 l 00\\nDescription: voluptate ea a eos et quiquinam iste voluptate ea a eos et quiquinam iste voluptate ea a eos\\net quiquinam istevoluptate ea a eos et quiquinam istevoluptate ea a eos et quiquinam istevoluptate ea a\\neos et quiquinam istevoluptate ea a eos et quiquinam istevoluptate ea a eos et quiquinam istevoluptate\\nea a eos et quiquinam iste voluptate ea a eos et quiquinam iste voluptate ea a eos et quiquinam\\nistevoluptate ea a eos et quiquinam istevoluptate ea a eos et quiquinam istevoluptate ea a eos et quiqui\\nnam istevoluptate ea a eos et quiquinam istevoluptate ea a eos et quiquinam istevoluptate ea a eos et qui\\nquinam iste voluptate ea a eos et quiquinam iste voluptate ea a eos et quiquinam istevoluptate ea a eos\\net quiquinam istevoluptate ea a eos et quiquinam istevoluptate ea a eos et quiquinam istevoluptate ea a\\neos et quiquinam istevoluptate ea a eos et quiquinam istevoluptate ea a eos et quiquinam iste voluptate\\nea a eos et quiquinam iste voluptate ea a eos et quiquinam istevoluptate ea a eos et quiquinam\\nistevoluptate ea a eos et quiquinam istevoluptate ea a eos et quiquinam istevoluptate ea a eos et quiqui\\nnam istevoluptate ea a eos et quiquinam istevoluptate ea a eos et quiquinam iste voluptate ea a eos et\\nquiquinam iste voluptate ea a eos et quiquinam istevoluptate ea a eos et quiquinam istevoluptate ea a\\neos et quiquinam istevoluptate ea a eos et quiquinam istevoluptate ea a eos et quiquinam istevoluptate\\nea a eos et quiquinam istevoluptate ea a eos et quiquinam iste voluptate ea a eos et quiquinam iste\\nvoluptate ea a eos et quiquinam istevoluptate ea a eos et quiquinam istevoluptate ea a eos et quiqui\\nnam istevoluptate ea a eos et quiquinam istevoluptate ea a eos et quiquinam istevoluptate ea a eos et qui\\nquinam istevoluptate ea a eos et quiquinam iste'}\n"
                    ]
                }
            ],
            "source": [
                "import requests\n",
                "\n",
                "def post_ocr_process_file():\n",
                "    url = \"http://seappserver1.rit.edu/ocrservice/api/processfile?ocrLib={std}\"\n",
                "    filename = \"./dm_file.png\"\n",
                "    with open(filename, 'rb') as f:\n",
                "        result = requests.post(url, files={'file': f})\n",
                "        print(result.json()) #Print the returned data, converted to json text\n",
                "\n",
                "\n",
                "post_ocr_process_file()"
            ]
        },
        {
            "cell_type": "markdown",
            "metadata": {},
            "source": [
                "#### Practice: File Processing - Asynchronous\n",
                "Not all work done by software services is instantaneous.  In fact, many modern services take seconds to multiple minutes to 'do their job'.  In the prior example, we took the lazy programming approach and just make the user wait till the job is done.  This works, but it prevents the user from being able to do anything else.  And what if the processing work took many minutes, or even hours?  Today, vision analytics and algorithms that take in big-data for machine learning can easily take that much time.  To allow parallel processing, is it necessary to provide APIs that enable asynchronous behaviour. i.e. Submit something for processing but don't wait for it.  Just come back from time to time and see if the job is completed.  \n",
                "We will have to experiment with this time of behaviour.\n",
                "You will use the `processfileasync` API, but will also need to implement a mechanism to check to see *when* the work is completed.\n"
            ]
        },
        {
            "cell_type": "code",
            "execution_count": null,
            "metadata": {},
            "outputs": [
                {
                    "name": "stdout",
                    "output_type": "stream",
                    "text": [
                        "{'_inputFile': 'dm_file.png', '_inputFileLength': 152022, '_outputFilePath': 'd086e642-0762-4ae2-ba9c-861510da5d1b/dm_file.txt'}\n",
                        "Monitor for: 'd086e642-0762-4ae2-ba9c-861510da5d1b/dm_file.txt'\n",
                        "0: <Response [200]>\n",
                        "[1]: File d086e642-0762-4ae2-ba9c-861510da5d1b/dm_file.txt is not ready\n",
                        "1: <Response [200]>\n",
                        "[2]: File d086e642-0762-4ae2-ba9c-861510da5d1b/dm_file.txt is not ready\n",
                        "2: <Response [200]>\n",
                        "[3]: File d086e642-0762-4ae2-ba9c-861510da5d1b/dm_file.txt is not ready\n",
                        "3: <Response [200]>\n",
                        "OCR Result stored in async_ocr_result.txt\n"
                    ]
                }
            ],
            "source": [
                "import requests\n",
                "import time\n",
                "\n",
                "\"\"\"\n",
                "monitor is used to periodically check back with the server to see if a submitted job is completed.\n",
                "Parameters: filePath - the file ON THE SERVER to look for\n",
                "Returns: The text content of the processed file\n",
                "\n",
                "\"\"\"\n",
                "def monitor(filePath):\n",
                "    count = 0\n",
                "    #API for checking for a file\n",
                "    url = \"http://seappserver1.rit.edu/OCRService/api/GetProcessedFile?filename=\"\n",
                "    while count < 10: #Try up to 10 times (10*5 = 50 seconds)\n",
                "        response = requests.get(url + filePath)\n",
                "        print(f\"{count}: {response}\")\n",
                "        count = count + 1\n",
                "        if response.status_code != 200:\n",
                "            print(f\"Error in processing file {filePath}\")\n",
                "            return \"\"\n",
                "        if response.json().get('_fileReady', False) == False:\n",
                "            print(f\"[{count}]: File {filePath} is not ready\")\n",
                "            time.sleep(5) #Sleep 5 seconds\n",
                "        else:\n",
                "            return response.json().get('_fileData', \"\")\n",
                "\n",
                "\n",
                "def ocr_async():\n",
                "    #API for async processing\n",
                "    url = \"http://seappserver1.rit.edu/ocrservice/api/processfileasync\"\n",
                "    filename = \"./dm_file.png\"\n",
                "    outputFile = \"\"\n",
                "    result = ''\n",
                "\n",
                "    with open(filename, 'rb') as f:\n",
                "        #Use a post syntax from prior step to send the file to the API\n",
                "        #e.g. result = xxxxxxxxxx\n",
                "        result = requests.post(url, files={'file': f})\n",
                "        print(result.json())\n",
                "        outputFile = result.json().get('_outputFilePath', None)\n",
                "        if outputFile == None:\n",
                "            print(\"Error in processing file\")\n",
                "            return\n",
                "\n",
                "    print(f\"Monitor for: '{outputFile}'\")\n",
                "    ocrData = monitor(outputFile) #We conveniently provide you a monitor method\n",
                "    if ocrData == \"\":\n",
                "        print(\"OCR Failed\") #We tried X number of times, but gave up\n",
                "    else:\n",
                "        destFile = 'async_ocr_result.txt' #Got a good result!\n",
                "        print(f\"OCR Result stored in {destFile}\")\n",
                "        file = open(destFile, \"w\")\n",
                "        file.write(ocrData)\n",
                "\n",
                "\"\"\"This will run the main command\"\"\"\n",
                "ocr_async()\n"
            ]
        },
        {
            "cell_type": "markdown",
            "metadata": {},
            "source": [
                "#### Putting it all together\n",
                "So, we have experimented with two services\n",
                "1. A document repository (DMService) that holds a set of files\n",
                "2. An OCR service that converts images to text (and we did it two different ways)\n",
                "\n",
                "At the end of this, we have text data from pictures.  Great.  And we would want to use that data.  Not just store blobs of text, but actually put that into a more organized form.  \n",
                "- How about a database?  If we look at the text result, it is a set of fields, and there is data for each field.  Sounds a lot like a database table.\n",
                "\n",
                "We have one more service to help us take plain text, and make it more 'organized' i.e. `field: value` as a nice data structure, which will allow us to easily store into a DB (we'll leave out the actual DB for now!)\n",
                "\n",
                "In this final exercise, use the additional API http://seappserver1.rit.edu/dmservice/api/ReadForm.  \n",
                "You can read more about the API on the website.\n",
                "You will now put together all the pieces ... which is how you build pretty much all applications through integration of multiple distributed components  \n",
                "\n",
                "1. Retrieve a file using `GetFile`\n",
                "2. Process a file using one of the `ProcessFile...` APIs\n",
                "3. Convert the raw text into a json (name:value) list using the `ReadForm` API and save that json formatted file\n",
                "    - As mentioned above, you would then store the data into a table in a read DB, but we'll leave that for your own experimentation!  \n",
                "\n",
                "\n",
                "Some starter python code is provided below.  Fill in the rest using what you learned in the prior steps ... and make the integrated application work!  "
            ]
        },
        {
            "cell_type": "code",
            "execution_count": null,
            "metadata": {},
            "outputs": [
                {
                    "name": "stdout",
                    "output_type": "stream",
                    "text": [
                        "Running the integrated application\n",
                        "Parsing file ./ocr_result.txt to json\n",
                        "{'allFields': [{'fieldName': 'First Name', 'fieldValue': ' Fidel'}, {'fieldName': 'Last Name', 'fieldValue': ' Beer'}, {'fieldName': 'Application Type ', 'fieldValue': ' new'}, {'fieldName': 'Address', 'fieldValue': ' 433 Runolfsson Corner'}, {'fieldName': 'Cij', 'fieldValue': ' West Reina'}, {'fieldName': 'Email', 'fieldValue': ' Enola qilli'}, {'fieldName': 'Phone', 'fieldValue': ' 669.748.2 l 00'}, {'fieldName': 'Description', 'fieldValue': ' voluptate ea a eos et quiquinam iste voluptate ea a eos et quiquinam iste voluptate ea a eos'}]}\n"
                    ]
                }
            ],
            "source": [
                "import requests\n",
                "\n",
                "\n",
                "def get_a_file(file_name=\"Application_L_Page_002.png\", file_path=\"./dm_file.png\"):\n",
                "    #Get file from DM\n",
                "    print(f\"Getting file {file_name}\")\n",
                "    url = f\"http://seappserver1.rit.edu/dmservice/api\"\n",
                "    command = f\"/downloadfile?fileName={file_name}\"\n",
                "    hdr = {'accept': 'application/json'}\n",
                "    response = requests.get(url + command, headers=hdr)\n",
                "    if response.status_code != 200:\n",
                "        print(\"Error in retrieving file\")\n",
                "        return\n",
                "    with open(file_path, \"wb\") as file:\n",
                "        file.write(response.content)\n",
                "        print(f\"Downloaded file {file_name} to {file_path}\")\n",
                "\n",
                "\n",
                "def process_a_file(process_file_path=\"./dm_file.png\", file_path=\"./ocr_result.txt\"):\n",
                "    #Use OCR server to convert image to raw text\n",
                "    print(f\"Processing file {process_file_path}\")\n",
                "    url = \"http://seappserver1.rit.edu/ocrservice/api/processfile?ocrLib={std}\"\n",
                "    with open(process_file_path, 'rb') as file:\n",
                "        response = requests.post(url, files={'file': file})\n",
                "        if response.status_code != 200:\n",
                "            print(\"Error in processing file\")\n",
                "            return\n",
                "        with open(file_path, \"w\") as file:\n",
                "            ocr_text = response.json().get('_text', None)\n",
                "            if ocr_text == None:\n",
                "                print(\"Error in processing file\")\n",
                "            file.write(ocr_text)\n",
                "\n",
                "\n",
                "def parse_a_file(ocr_file_path=\"./ocr_result.txt\"):\n",
                "    #Use ParserService to submit a raw text file to conver to name:value pairs\n",
                "    print(f\"Parsing file {ocr_file_path} to json\")\n",
                "    url = \"http://seappserver1.rit.edu/parserservice/api/ReadForm\"\n",
                "    with open(ocr_file_path, 'r') as file:\n",
                "        result = requests.post(url, files={'file': file})\n",
                "        if result.status_code != 200:\n",
                "            print(\"Error in parsing file: \", result.text)\n",
                "            return\n",
                "        print(result.json())\n",
                "\n",
                "\n",
                "\n",
                "\n",
                "print(\"Running the integrated application\")\n",
                "\n",
                "get_a_file()\n",
                "process_a_file()\n",
                "parse_a_file()\n",
                "#Print the final json output!!!"
            ]
        },
        {
            "cell_type": "markdown",
            "metadata": {},
            "source": [
                "#### Conclusions\n",
                "\n",
                "Now that you have a working application, run the application we provided (the C# app) and run ALL the commands.  Observe the output, watch the behaviour.  Think about how the operations work (and why).  Consider the choices to be made in putting the service components together.  Add your thoughts below"
            ]
        },
        {
            "cell_type": "markdown",
            "metadata": {},
            "source": [
                "#### Student observations\n",
                "\n",
                "My main observation is mainly that at every tiny step every action is being properly communicated or rather the state of the application is always shown to the user so there is no confusion. In mine, as I was working, I had to start adding more error checking and error messages because I had entered something wrong and was not getting the desired output. Although these are confined working tests in the C# Application, I feel like it would display it properly as well.\n",
                "\n",
                "As for the what and how the system works, The components small services that were chosen and used together to create a larger service that solves a specific problem that needs all the components to work together. Because each part of the system is a small service, this makes it modular and easily replacable which is a great thing is one of the components goes down or has some other issue. \n",
                "\n",
                "\n",
                "\n",
                "\n"
            ]
        }
    ],
    "metadata": {
        "kernelspec": {
            "display_name": ".venv",
            "language": "python",
            "name": "python3"
        },
        "language_info": {
            "codemirror_mode": {
                "name": "ipython",
                "version": 3
            },
            "file_extension": ".py",
            "mimetype": "text/x-python",
            "name": "python",
            "nbconvert_exporter": "python",
            "pygments_lexer": "ipython3",
            "version": "3.12.0"
        }
    },
    "nbformat": 4,
    "nbformat_minor": 2
}
